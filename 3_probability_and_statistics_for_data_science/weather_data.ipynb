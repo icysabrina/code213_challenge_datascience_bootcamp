{
 "cells": [
  {
   "cell_type": "markdown",
   "id": "b94b3e3e",
   "metadata": {},
   "source": [
    "## Weather Data Analysis Exercise\n",
    "File Description\n",
    "This file contains **10 lines of weather data**, following the format below:\n",
    "### Objective\n",
    "- Read the data from the file.  \n",
    "- Calculate the **average maximum temperature**, **average minimum temperature**, and **total precipitation** for the given period.  \n",
    "- Determine the **number of rainy days** (`precipitation > 0`).  \n",
    "- Find the **highest** and **lowest** recorded temperatures.\n",
    "\n",
    "### Constraints\n",
    "- Use only Python's **basic data structures** (`lists`, `dictionaries`).  \n",
    "- **Do not** use external libraries like **NumPy**.\n",
    "\n",
    "### Hints\n",
    "- Use the `split()` function to separate data in the file.  \n",
    "- Use **control structures** (loops, conditions) to process the data."
   ]
  },
  {
   "cell_type": "code",
   "execution_count": 1,
   "id": "b323921a",
   "metadata": {},
   "outputs": [
    {
     "name": "stdout",
     "output_type": "stream",
     "text": [
      "['2023-11-01,15,5,0.2\\n', '2023-11-02,17,7,1.5\\n', '2023-11-03,12,3,0\\n', '2023-11-04,18,6,0.8\\n', '2023-11-05,14,4,3.2\\n', '2023-11-06,16,8,0\\n', '2023-11-07,13,2,0.5\\n', '2023-11-08,19,9,2.1\\n', '2023-11-09,11,1,0.3\\n', '2023-11-10,17,6,1.2']\n"
     ]
    }
   ],
   "source": [
    "file_path = \"weather_data.txt\"\n",
    "with open(file_path, 'r') as file:\n",
    "    lines = file.readlines()\n",
    "    print(lines)"
   ]
  },
  {
   "cell_type": "code",
   "execution_count": 2,
   "id": "a0ef4183",
   "metadata": {},
   "outputs": [
    {
     "name": "stdout",
     "output_type": "stream",
     "text": [
      "['2023-11-01,15,5,0.2', '2023-11-02,17,7,1.5', '2023-11-03,12,3,0', '2023-11-04,18,6,0.8', '2023-11-05,14,4,3.2', '2023-11-06,16,8,0', '2023-11-07,13,2,0.5', '2023-11-08,19,9,2.1', '2023-11-09,11,1,0.3', '2023-11-10,17,6,1.2']\n"
     ]
    }
   ],
   "source": [
    "lines = [line.strip() for line in lines]\n",
    "print(lines)"
   ]
  },
  {
   "cell_type": "code",
   "execution_count": 3,
   "id": "f6b96bb6",
   "metadata": {},
   "outputs": [
    {
     "name": "stdout",
     "output_type": "stream",
     "text": [
      "['2023-11-01', '15', '5', '0.2']\n"
     ]
    }
   ],
   "source": [
    "headers = lines[0].split(',') \n",
    "print(headers)"
   ]
  },
  {
   "cell_type": "code",
   "execution_count": 67,
   "id": "edcd6434",
   "metadata": {},
   "outputs": [
    {
     "name": "stdout",
     "output_type": "stream",
     "text": [
      "['2023-11-01,15,5,0.2\\n', '2023-11-02,17,7,1.5\\n', '2023-11-03,12,3,0\\n', '2023-11-04,18,6,0.8\\n', '2023-11-05,14,4,3.2\\n', '2023-11-06,16,8,0\\n', '2023-11-07,13,2,0.5\\n', '2023-11-08,19,9,2.1\\n', '2023-11-09,11,1,0.3\\n', '2023-11-10,17,6,1.2']\n",
      "[15.0, 17.0, 12.0, 18.0, 14.0, 16.0, 13.0, 19.0, 11.0, 17.0]\n",
      "[5.0, 7.0, 3.0, 6.0, 4.0, 8.0, 2.0, 9.0, 1.0, 6.0]\n",
      "[0.2, 1.5, 0.0, 0.8, 3.2, 0.0, 0.5, 2.1, 0.3, 1.2]\n",
      "avrege_max_temperature: 15.2\n",
      "avrege_min_temperature: 5.1\n",
      "total_precipetation: 9.8\n",
      "number of rainy days: 8\n"
     ]
    }
   ],
   "source": [
    "file_path = \"weather_data.txt\"\n",
    "with open(file_path, 'r') as file:\n",
    "    lines = file.readlines()\n",
    "\n",
    "print(lines)\n",
    "\n",
    "#headers = lines[0].split(',') \n",
    "num_precipitation=0\n",
    "max_temperature = []\n",
    "min_temperature = []\n",
    "precipitation = []\n",
    "\n",
    "for line in lines[0:]:\n",
    "    weather_data=line.split(',')\n",
    "    data.append (weather_data[0])\n",
    "    max_temperature.append(float(weather_data[1]))\n",
    "    min_temperature.append(float(weather_data[2]))\n",
    "    precipitation.append(float(weather_data[3]))\n",
    "    \n",
    "    if float(weather_data[3])> 0 :\n",
    "       num_precipitation +=1\n",
    "\n",
    "print(max_temperature)\n",
    "print(min_temperature)\n",
    "print(precipitation)\n",
    "\n",
    "print('avrege_max_temperature:',  sum(max_temperature)/len(max_temperature))\n",
    "print('avrege_min_temperature:',  sum(min_temperature)/len(min_temperature))\n",
    "print('total_precipetation:',   sum(precipitation))\n",
    "print('number of rainy days:',num_precipitation)\n",
    "\n",
    "\n",
    " "
   ]
  },
  {
   "cell_type": "code",
   "execution_count": 74,
   "id": "e5a2d294",
   "metadata": {},
   "outputs": [],
   "source": [
    "def analyze_weather_data(file_path):\n",
    "    \"\"\"Analyzes weather data from a given file.\n",
    "        Args: \n",
    "            Filename: The name of the weather data file.\n",
    "        Returns:\n",
    "            A tuple containing:\n",
    "                - Average maximum temperature\n",
    "                - Average minimum temperature\n",
    "                - Total precipitation\n",
    "                - Number of rainy days\n",
    "                - Maximum temperature\n",
    "                - Minimum temperature\"\"\"   \n",
    "    with open(file_path, 'r') as file:\n",
    "        lines = file.readlines()\n",
    "\n",
    "        \n",
    "    num_precipitation=0\n",
    "    max_temperature = []\n",
    "    min_temperature = []\n",
    "    precipitation = []\n",
    "\n",
    "    for line in lines[0:]:\n",
    "        weather_data=line.split(',')\n",
    "  \n",
    "        max_temperature.append(float(weather_data[1]))\n",
    "\n",
    "        min_temperature.append(float(weather_data[2]))\n",
    "        precipitation.append(float(weather_data[3]))\n",
    "\n",
    "        \n",
    "        if float(weather_data[3])> 0 :\n",
    "         num_precipitation +=1\n",
    "\n",
    "    averege_max = sum(max_temperature) / len(max_temperature)\n",
    "    averege_min = sum(min_temperature) / len(min_temperature)\n",
    "    total_precipitation = sum(precipitation)\n",
    "\n",
    "    max_temperature=max(max_temperature)\n",
    "    min_temperature=min(min_temperature)\n",
    "    return {\n",
    "        \"max_temperature\" : max_temperature,\n",
    "        \"min_temperature\": min_temperature,\n",
    "        \n",
    "        \"average_max_temperature\": averege_max,\n",
    "        \"average_min_temperature\": averege_min ,\n",
    "        \"total_precipitation\": total_precipitation,\n",
    "        \"rainy_days\": num_precipitation,\n",
    "        \"max_temperature\": max_temperature,\n",
    "        \"min_temperature\": min_temperature\n",
    "    }    \n",
    "\n"
   ]
  },
  {
   "cell_type": "code",
   "execution_count": 75,
   "id": "dbf5d792",
   "metadata": {},
   "outputs": [
    {
     "data": {
      "text/plain": [
       "{'max_temperature': 19.0,\n",
       " 'min_temperature': 1.0,\n",
       " 'average_max_temperature': 15.2,\n",
       " 'average_min_temperature': 5.1,\n",
       " 'total_precipitation': 9.8,\n",
       " 'rainy_days': 8}"
      ]
     },
     "execution_count": 75,
     "metadata": {},
     "output_type": "execute_result"
    }
   ],
   "source": [
    "file_path='weather_data.txt'\n",
    "analyze_weather_data(file_path)"
   ]
  }
 ],
 "metadata": {
  "kernelspec": {
   "display_name": "Python 3",
   "language": "python",
   "name": "python3"
  },
  "language_info": {
   "codemirror_mode": {
    "name": "ipython",
    "version": 3
   },
   "file_extension": ".py",
   "mimetype": "text/x-python",
   "name": "python",
   "nbconvert_exporter": "python",
   "pygments_lexer": "ipython3",
   "version": "3.13.7"
  }
 },
 "nbformat": 4,
 "nbformat_minor": 5
}
