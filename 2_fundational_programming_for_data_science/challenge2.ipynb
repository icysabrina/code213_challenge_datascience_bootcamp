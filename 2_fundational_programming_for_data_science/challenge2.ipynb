{
 "cells": [
  {
   "cell_type": "markdown",
   "id": "a01c86a8",
   "metadata": {},
   "source": [
    "TASK 1"
   ]
  },
  {
   "cell_type": "code",
   "execution_count": null,
   "id": "9483b580",
   "metadata": {},
   "outputs": [],
   "source": [
    "# ask the user their name and age \n",
    "name=input(\"enter your name\")\n",
    "age=int(input(\"enter your age\"))\n"
   ]
  },
  {
   "cell_type": "code",
   "execution_count": 2,
   "id": "bae25b00",
   "metadata": {},
   "outputs": [
    {
     "name": "stdout",
     "output_type": "stream",
     "text": [
      "sabrina, you will turn 100 years old in the year (year_100)\n"
     ]
    }
   ],
   "source": [
    "# print a message to the use that tells the year they will turn 100 years old\n",
    "year_100 =100 - age + 2025\n",
    "print(f\"{name}, you will turn 100 years old in the year (year_100)\")"
   ]
  },
  {
   "cell_type": "markdown",
   "id": "a3b5c7ac",
   "metadata": {},
   "source": [
    "TASK 2: guessing game "
   ]
  },
  {
   "cell_type": "code",
   "execution_count": null,
   "id": "1d06e2f6",
   "metadata": {},
   "outputs": [
    {
     "name": "stdout",
     "output_type": "stream",
     "text": [
      "Too low\n",
      " the numer is 6\n",
      "the user guesed 2\n",
      "Too low\n",
      " the numer is 5\n",
      "the user guesed 2\n",
      "Too high\n",
      " the numer is 3\n",
      "the user guesed 5\n",
      "Too high\n",
      " the numer is 3\n",
      "the user guesed 5\n",
      "Too high\n",
      " the numer is 7\n",
      "the user guesed 8\n",
      "Too high\n",
      " the numer is 3\n",
      "the user guesed 7\n",
      "Too low\n",
      " the numer is 10\n",
      "the user guesed 9\n",
      "Too low\n",
      " the numer is 3\n",
      "the user guesed 2\n"
     ]
    }
   ],
   "source": [
    "# generate a random number between 1 and 10 \n",
    "import random \n",
    "# keep the game going until the user hit exit \n",
    "while True:\n",
    "    number = random.randint(1,10)\n",
    "    # write a program that ask the user to guess a number between 1 and 10.\n",
    "    guess= input(\"Guess a number between 1 and 10 :\")\n",
    "    if guess.lower()==\"exit\": \n",
    "        print(\"the game is over\")\n",
    "        print(f\"the number of guesses is {number_guessed}\")\n",
    "        break\n",
    "    # check if the user guess the correct number \n",
    "    guess=int(guess)\n",
    "    number_guessed=1\n",
    "    if guess>number:\n",
    "        print(\"Too high\")\n",
    "    elif guess<number:\n",
    "        print(\"Too low\")\n",
    "    else:\n",
    "        print(\"Congratulations! You guessed it right.\")\n",
    "\n",
    "    print(f\" the numer is {number}\")\n",
    "    print(f'the user guesed {guess}')"
   ]
  },
  {
   "cell_type": "markdown",
   "id": "8b7b9bb5",
   "metadata": {},
   "source": [
    "TASK 3"
   ]
  },
  {
   "cell_type": "code",
   "execution_count": null,
   "id": "b9151112",
   "metadata": {},
   "outputs": [
    {
     "data": {
      "text/plain": [
       "(2, 6)"
      ]
     },
     "execution_count": 3,
     "metadata": {},
     "output_type": "execute_result"
    }
   ],
   "source": [
    "# write a function take a list and return its first and last element\n",
    "def last_element(list):\n",
    "    \"\"\" input: list \n",
    "         output: first and last elements of the list \n",
    "    \"\"\"\n",
    "    return list[0],list[-1]\n",
    "# test the function \n",
    "last_element([2,3,4,5,6])\n"
   ]
  },
  {
   "cell_type": "markdown",
   "id": "a09fc053",
   "metadata": {},
   "source": [
    "TASK 4"
   ]
  },
  {
   "cell_type": "code",
   "execution_count": 7,
   "id": "7fb910d4",
   "metadata": {},
   "outputs": [
    {
     "data": {
      "text/plain": [
       "'*Kp#@}w\\\\YW'"
      ]
     },
     "execution_count": 7,
     "metadata": {},
     "output_type": "execute_result"
    }
   ],
   "source": [
    "# password generator\n",
    "import random \n",
    "import string \n",
    "def generate_password(length, strength):\n",
    "    \"\"\" Input: length of the password\n",
    "        Output: a random password of the given length\n",
    "    \"\"\"\n",
    "    # list of weak passwords\n",
    "    lst=[\"password\",\"123456676\",\"sabrina\"]\n",
    "    # check the strength of the password \n",
    "    if strength.lower()== \"weak\":\n",
    "        return random.choice(lst)\n",
    "    else:\n",
    "        length=int(length)\n",
    "        characters = string.ascii_letters + string.digits + string.punctuation\n",
    "        password = ''.join(random.choice(characters) for i in range(length))\n",
    "        return password\n",
    "generate_password(10,\"strong\")"
   ]
  }
 ],
 "metadata": {
  "kernelspec": {
   "display_name": "Python 3",
   "language": "python",
   "name": "python3"
  },
  "language_info": {
   "codemirror_mode": {
    "name": "ipython",
    "version": 3
   },
   "file_extension": ".py",
   "mimetype": "text/x-python",
   "name": "python",
   "nbconvert_exporter": "python",
   "pygments_lexer": "ipython3",
   "version": "3.13.7"
  }
 },
 "nbformat": 4,
 "nbformat_minor": 5
}
